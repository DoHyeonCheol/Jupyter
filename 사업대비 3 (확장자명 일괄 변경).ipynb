{
 "cells": [
  {
   "cell_type": "code",
   "execution_count": null,
   "id": "98ade803",
   "metadata": {},
   "outputs": [],
   "source": [
    "import os\n",
    "import glob\n",
    "\n",
    "files = glob.glob(\"./JPEGImages/*.png\")  # 원하는 디렉토리 설정\n",
    "for name in files:\n",
    "    if not os.path.indir(name):  # 디렉토리 포함하지 않음\n",
    "        src = os.path.splitext(name)   # 확장자와 파일명구분\n",
    "        os.rename(name,src[0]+'.jpg')   # png를 없앤 파일명에 jpg 확장자 붙이기"
   ]
  }
 ],
 "metadata": {
  "kernelspec": {
   "display_name": "Python 3 (ipykernel)",
   "language": "python",
   "name": "python3"
  },
  "language_info": {
   "codemirror_mode": {
    "name": "ipython",
    "version": 3
   },
   "file_extension": ".py",
   "mimetype": "text/x-python",
   "name": "python",
   "nbconvert_exporter": "python",
   "pygments_lexer": "ipython3",
   "version": "3.10.8"
  }
 },
 "nbformat": 4,
 "nbformat_minor": 5
}
